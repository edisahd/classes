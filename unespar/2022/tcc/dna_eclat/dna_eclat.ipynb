{
  "nbformat": 4,
  "nbformat_minor": 0,
  "metadata": {
    "colab": {
      "name": "tcc_renan.ipynb",
      "provenance": [],
      "collapsed_sections": []
    },
    "kernelspec": {
      "name": "python3",
      "display_name": "Python 3"
    },
    "language_info": {
      "name": "python"
    }
  },
  "cells": [
    {
      "cell_type": "code",
      "source": [
        "!pip install pyECLAT\n",
        "!pip install bio"
      ],
      "metadata": {
        "id": "Squ3bmJXRucG"
      },
      "execution_count": null,
      "outputs": []
    },
    {
      "cell_type": "code",
      "source": [
        "from Bio import SeqIO\n",
        "import pandas as pd\n",
        "from pyECLAT import ECLAT"
      ],
      "metadata": {
        "id": "sYgfDYuZRuYp"
      },
      "execution_count": null,
      "outputs": []
    },
    {
      "cell_type": "code",
      "execution_count": null,
      "metadata": {
        "id": "pS97cckkQj3g"
      },
      "outputs": [],
      "source": [
        "def kmer(dna_str, k):\n",
        "    l = []\n",
        "    for i in range(0, (len(dna_str) - (k-1))):\n",
        "        l.append(dna_str[i:i+k])\n",
        "    return l"
      ]
    },
    {
      "cell_type": "code",
      "source": [
        "transactions = []\n",
        "fasta_sequences = SeqIO.parse(open('seqs.fasta'),'fasta')\n",
        "for fasta in fasta_sequences:\n",
        "    sequence = str(fasta.seq)\n",
        "    transactions.append(kmer(sequence, 2))"
      ],
      "metadata": {
        "id": "tYfNfs-CXpZU"
      },
      "execution_count": null,
      "outputs": []
    },
    {
      "cell_type": "code",
      "source": [
        "df = pd.DataFrame(transactions)\n",
        "df.head()"
      ],
      "metadata": {
        "colab": {
          "base_uri": "https://localhost:8080/",
          "height": 235
        },
        "id": "QdsIildCXtlL",
        "outputId": "c1917133-93cf-48ac-c8f3-18fade308840"
      },
      "execution_count": null,
      "outputs": [
        {
          "output_type": "execute_result",
          "data": {
            "text/plain": [
              "   0   1   2   3   4   5   6   7   8   9   ...  14  15  16  17  18    19  \\\n",
              "0  ac  ca  aa  ac  cg  gg  gc  cc  ca  at  ...  ca  at  tc  cg  ga  None   \n",
              "1  gt  ta  ac  ca  ac  ct  tt  ta  ac  cc  ...  ga  at  tg  gt  tt  None   \n",
              "2  gt  tc  ct  tg  gg  gg  gc  cc  ca  ag  ...  tc  cc  cc  ca  ag    gt   \n",
              "3  at  tc  cc  ct  tg  gg  gc  cc  ca  ac  ...  gc  cc  cc  ca  ag    gt   \n",
              "4  tg  ga  ag  gc  cg  gg  gc  cc  ca  ac  ...  ac  cc  cc  ca  ag    gt   \n",
              "\n",
              "     20    21    22    23  \n",
              "0  None  None  None  None  \n",
              "1  None  None  None  None  \n",
              "2    tg    gt    ta    aa  \n",
              "3    ta    aa    aa    ac  \n",
              "4    tc    cc    cg    gt  \n",
              "\n",
              "[5 rows x 24 columns]"
            ],
            "text/html": [
              "\n",
              "  <div id=\"df-1e2cca85-87b6-4259-a07f-4ca9979e445a\">\n",
              "    <div class=\"colab-df-container\">\n",
              "      <div>\n",
              "<style scoped>\n",
              "    .dataframe tbody tr th:only-of-type {\n",
              "        vertical-align: middle;\n",
              "    }\n",
              "\n",
              "    .dataframe tbody tr th {\n",
              "        vertical-align: top;\n",
              "    }\n",
              "\n",
              "    .dataframe thead th {\n",
              "        text-align: right;\n",
              "    }\n",
              "</style>\n",
              "<table border=\"1\" class=\"dataframe\">\n",
              "  <thead>\n",
              "    <tr style=\"text-align: right;\">\n",
              "      <th></th>\n",
              "      <th>0</th>\n",
              "      <th>1</th>\n",
              "      <th>2</th>\n",
              "      <th>3</th>\n",
              "      <th>4</th>\n",
              "      <th>5</th>\n",
              "      <th>6</th>\n",
              "      <th>7</th>\n",
              "      <th>8</th>\n",
              "      <th>9</th>\n",
              "      <th>...</th>\n",
              "      <th>14</th>\n",
              "      <th>15</th>\n",
              "      <th>16</th>\n",
              "      <th>17</th>\n",
              "      <th>18</th>\n",
              "      <th>19</th>\n",
              "      <th>20</th>\n",
              "      <th>21</th>\n",
              "      <th>22</th>\n",
              "      <th>23</th>\n",
              "    </tr>\n",
              "  </thead>\n",
              "  <tbody>\n",
              "    <tr>\n",
              "      <th>0</th>\n",
              "      <td>ac</td>\n",
              "      <td>ca</td>\n",
              "      <td>aa</td>\n",
              "      <td>ac</td>\n",
              "      <td>cg</td>\n",
              "      <td>gg</td>\n",
              "      <td>gc</td>\n",
              "      <td>cc</td>\n",
              "      <td>ca</td>\n",
              "      <td>at</td>\n",
              "      <td>...</td>\n",
              "      <td>ca</td>\n",
              "      <td>at</td>\n",
              "      <td>tc</td>\n",
              "      <td>cg</td>\n",
              "      <td>ga</td>\n",
              "      <td>None</td>\n",
              "      <td>None</td>\n",
              "      <td>None</td>\n",
              "      <td>None</td>\n",
              "      <td>None</td>\n",
              "    </tr>\n",
              "    <tr>\n",
              "      <th>1</th>\n",
              "      <td>gt</td>\n",
              "      <td>ta</td>\n",
              "      <td>ac</td>\n",
              "      <td>ca</td>\n",
              "      <td>ac</td>\n",
              "      <td>ct</td>\n",
              "      <td>tt</td>\n",
              "      <td>ta</td>\n",
              "      <td>ac</td>\n",
              "      <td>cc</td>\n",
              "      <td>...</td>\n",
              "      <td>ga</td>\n",
              "      <td>at</td>\n",
              "      <td>tg</td>\n",
              "      <td>gt</td>\n",
              "      <td>tt</td>\n",
              "      <td>None</td>\n",
              "      <td>None</td>\n",
              "      <td>None</td>\n",
              "      <td>None</td>\n",
              "      <td>None</td>\n",
              "    </tr>\n",
              "    <tr>\n",
              "      <th>2</th>\n",
              "      <td>gt</td>\n",
              "      <td>tc</td>\n",
              "      <td>ct</td>\n",
              "      <td>tg</td>\n",
              "      <td>gg</td>\n",
              "      <td>gg</td>\n",
              "      <td>gc</td>\n",
              "      <td>cc</td>\n",
              "      <td>ca</td>\n",
              "      <td>ag</td>\n",
              "      <td>...</td>\n",
              "      <td>tc</td>\n",
              "      <td>cc</td>\n",
              "      <td>cc</td>\n",
              "      <td>ca</td>\n",
              "      <td>ag</td>\n",
              "      <td>gt</td>\n",
              "      <td>tg</td>\n",
              "      <td>gt</td>\n",
              "      <td>ta</td>\n",
              "      <td>aa</td>\n",
              "    </tr>\n",
              "    <tr>\n",
              "      <th>3</th>\n",
              "      <td>at</td>\n",
              "      <td>tc</td>\n",
              "      <td>cc</td>\n",
              "      <td>ct</td>\n",
              "      <td>tg</td>\n",
              "      <td>gg</td>\n",
              "      <td>gc</td>\n",
              "      <td>cc</td>\n",
              "      <td>ca</td>\n",
              "      <td>ac</td>\n",
              "      <td>...</td>\n",
              "      <td>gc</td>\n",
              "      <td>cc</td>\n",
              "      <td>cc</td>\n",
              "      <td>ca</td>\n",
              "      <td>ag</td>\n",
              "      <td>gt</td>\n",
              "      <td>ta</td>\n",
              "      <td>aa</td>\n",
              "      <td>aa</td>\n",
              "      <td>ac</td>\n",
              "    </tr>\n",
              "    <tr>\n",
              "      <th>4</th>\n",
              "      <td>tg</td>\n",
              "      <td>ga</td>\n",
              "      <td>ag</td>\n",
              "      <td>gc</td>\n",
              "      <td>cg</td>\n",
              "      <td>gg</td>\n",
              "      <td>gc</td>\n",
              "      <td>cc</td>\n",
              "      <td>ca</td>\n",
              "      <td>ac</td>\n",
              "      <td>...</td>\n",
              "      <td>ac</td>\n",
              "      <td>cc</td>\n",
              "      <td>cc</td>\n",
              "      <td>ca</td>\n",
              "      <td>ag</td>\n",
              "      <td>gt</td>\n",
              "      <td>tc</td>\n",
              "      <td>cc</td>\n",
              "      <td>cg</td>\n",
              "      <td>gt</td>\n",
              "    </tr>\n",
              "  </tbody>\n",
              "</table>\n",
              "<p>5 rows × 24 columns</p>\n",
              "</div>\n",
              "      <button class=\"colab-df-convert\" onclick=\"convertToInteractive('df-1e2cca85-87b6-4259-a07f-4ca9979e445a')\"\n",
              "              title=\"Convert this dataframe to an interactive table.\"\n",
              "              style=\"display:none;\">\n",
              "        \n",
              "  <svg xmlns=\"http://www.w3.org/2000/svg\" height=\"24px\"viewBox=\"0 0 24 24\"\n",
              "       width=\"24px\">\n",
              "    <path d=\"M0 0h24v24H0V0z\" fill=\"none\"/>\n",
              "    <path d=\"M18.56 5.44l.94 2.06.94-2.06 2.06-.94-2.06-.94-.94-2.06-.94 2.06-2.06.94zm-11 1L8.5 8.5l.94-2.06 2.06-.94-2.06-.94L8.5 2.5l-.94 2.06-2.06.94zm10 10l.94 2.06.94-2.06 2.06-.94-2.06-.94-.94-2.06-.94 2.06-2.06.94z\"/><path d=\"M17.41 7.96l-1.37-1.37c-.4-.4-.92-.59-1.43-.59-.52 0-1.04.2-1.43.59L10.3 9.45l-7.72 7.72c-.78.78-.78 2.05 0 2.83L4 21.41c.39.39.9.59 1.41.59.51 0 1.02-.2 1.41-.59l7.78-7.78 2.81-2.81c.8-.78.8-2.07 0-2.86zM5.41 20L4 18.59l7.72-7.72 1.47 1.35L5.41 20z\"/>\n",
              "  </svg>\n",
              "      </button>\n",
              "      \n",
              "  <style>\n",
              "    .colab-df-container {\n",
              "      display:flex;\n",
              "      flex-wrap:wrap;\n",
              "      gap: 12px;\n",
              "    }\n",
              "\n",
              "    .colab-df-convert {\n",
              "      background-color: #E8F0FE;\n",
              "      border: none;\n",
              "      border-radius: 50%;\n",
              "      cursor: pointer;\n",
              "      display: none;\n",
              "      fill: #1967D2;\n",
              "      height: 32px;\n",
              "      padding: 0 0 0 0;\n",
              "      width: 32px;\n",
              "    }\n",
              "\n",
              "    .colab-df-convert:hover {\n",
              "      background-color: #E2EBFA;\n",
              "      box-shadow: 0px 1px 2px rgba(60, 64, 67, 0.3), 0px 1px 3px 1px rgba(60, 64, 67, 0.15);\n",
              "      fill: #174EA6;\n",
              "    }\n",
              "\n",
              "    [theme=dark] .colab-df-convert {\n",
              "      background-color: #3B4455;\n",
              "      fill: #D2E3FC;\n",
              "    }\n",
              "\n",
              "    [theme=dark] .colab-df-convert:hover {\n",
              "      background-color: #434B5C;\n",
              "      box-shadow: 0px 1px 3px 1px rgba(0, 0, 0, 0.15);\n",
              "      filter: drop-shadow(0px 1px 2px rgba(0, 0, 0, 0.3));\n",
              "      fill: #FFFFFF;\n",
              "    }\n",
              "  </style>\n",
              "\n",
              "      <script>\n",
              "        const buttonEl =\n",
              "          document.querySelector('#df-1e2cca85-87b6-4259-a07f-4ca9979e445a button.colab-df-convert');\n",
              "        buttonEl.style.display =\n",
              "          google.colab.kernel.accessAllowed ? 'block' : 'none';\n",
              "\n",
              "        async function convertToInteractive(key) {\n",
              "          const element = document.querySelector('#df-1e2cca85-87b6-4259-a07f-4ca9979e445a');\n",
              "          const dataTable =\n",
              "            await google.colab.kernel.invokeFunction('convertToInteractive',\n",
              "                                                     [key], {});\n",
              "          if (!dataTable) return;\n",
              "\n",
              "          const docLinkHtml = 'Like what you see? Visit the ' +\n",
              "            '<a target=\"_blank\" href=https://colab.research.google.com/notebooks/data_table.ipynb>data table notebook</a>'\n",
              "            + ' to learn more about interactive tables.';\n",
              "          element.innerHTML = '';\n",
              "          dataTable['output_type'] = 'display_data';\n",
              "          await google.colab.output.renderOutput(dataTable, element);\n",
              "          const docLink = document.createElement('div');\n",
              "          docLink.innerHTML = docLinkHtml;\n",
              "          element.appendChild(docLink);\n",
              "        }\n",
              "      </script>\n",
              "    </div>\n",
              "  </div>\n",
              "  "
            ]
          },
          "metadata": {},
          "execution_count": 29
        }
      ]
    },
    {
      "cell_type": "code",
      "source": [
        "min_n_DN = 2\n",
        "min_sup = 7/len(transactions)\n",
        "max_len = max([len(x) for x in transactions])"
      ],
      "metadata": {
        "id": "ynO4MZ7jZjJ2"
      },
      "execution_count": null,
      "outputs": []
    },
    {
      "cell_type": "code",
      "source": [
        "my_eclat = ECLAT(data=df, verbose=True)\n",
        "rule_idx, rule_sup = my_eclat.fit(\n",
        "    min_support = min_sup,\n",
        "    min_combination = min_n_DN,\n",
        "    max_combination = 5\n",
        ")"
      ],
      "metadata": {
        "colab": {
          "base_uri": "https://localhost:8080/"
        },
        "id": "mzs0-KaUZwip",
        "outputId": "a83cf904-c30b-4b99-e774-a0f7e803370e"
      },
      "execution_count": 34,
      "outputs": [
        {
          "output_type": "stream",
          "name": "stderr",
          "text": [
            "100%|██████████| 17/17 [00:00<00:00, 61.27it/s]\n",
            "100%|██████████| 17/17 [00:00<00:00, 49378.93it/s]\n",
            "100%|██████████| 17/17 [00:00<00:00, 1966.66it/s]\n"
          ]
        },
        {
          "output_type": "stream",
          "name": "stdout",
          "text": [
            "Combination 2 by 2\n"
          ]
        },
        {
          "output_type": "stream",
          "name": "stderr",
          "text": [
            "120it [00:01, 101.47it/s]\n"
          ]
        },
        {
          "output_type": "stream",
          "name": "stdout",
          "text": [
            "Combination 3 by 3\n"
          ]
        },
        {
          "output_type": "stream",
          "name": "stderr",
          "text": [
            "560it [00:04, 127.39it/s]\n"
          ]
        },
        {
          "output_type": "stream",
          "name": "stdout",
          "text": [
            "Combination 4 by 4\n"
          ]
        },
        {
          "output_type": "stream",
          "name": "stderr",
          "text": [
            "1820it [00:15, 115.45it/s]\n"
          ]
        },
        {
          "output_type": "stream",
          "name": "stdout",
          "text": [
            "Combination 5 by 5\n"
          ]
        },
        {
          "output_type": "stream",
          "name": "stderr",
          "text": [
            "4368it [00:41, 104.66it/s]\n"
          ]
        }
      ]
    },
    {
      "cell_type": "code",
      "source": [
        "{k: v for k, v in sorted(rule_sup.items(), key=lambda item: item[1], reverse=True)}"
      ],
      "metadata": {
        "id": "13JjjlgOaLC_"
      },
      "execution_count": null,
      "outputs": []
    },
    {
      "cell_type": "code",
      "source": [
        "import json\n",
        "json.dump({k: v for k, v in sorted(rule_sup.items(), key=lambda item: item[1], reverse=True)}, open(\"res.json\", 'w' ) )"
      ],
      "metadata": {
        "id": "3v1h6csnfDgW"
      },
      "execution_count": 38,
      "outputs": []
    }
  ]
}